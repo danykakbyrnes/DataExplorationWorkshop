{
 "cells": [
  {
   "cell_type": "markdown",
   "id": "6d8838ae-c4cc-44f7-a4f0-237e8e7651bd",
   "metadata": {},
   "source": [
    "# Data exploration\n",
    "\n",
    "This notebook will walk you through different ways we can look at data to gain a better understanding of our data, build intuition, and start hypothesis testing. By the end of this workshop, participants will have some data exploration skills in their toolbox to conduct which lays a solid foundation for any subsequent machine learning or data analysis projects.\n",
    "\n",
    "It is assumed that you have two datafiles required stored in 'OUTPUT/' folder:\n",
    "1. CQ_Data_20240602.txt\n",
    "2. WtshdAttributeTable_20240602.txt"
   ]
  },
  {
   "cell_type": "code",
   "execution_count": 4,
   "id": "ee0a928c-bc34-4172-9bcb-10a21da1789e",
   "metadata": {},
   "outputs": [],
   "source": [
    "# Import all libraries at the top of your code so you can easily see and organize all the packges you are using. \n",
    "import pandas as pd\n",
    "import seaborn as sns\n",
    "import matplotlib.pyplot as plt"
   ]
  },
  {
   "cell_type": "code",
   "execution_count": 3,
   "id": "04083a55-d355-4715-9781-cd8e33775232",
   "metadata": {},
   "outputs": [],
   "source": [
    "# Set up the filepaths\n",
    "outputDataFilepath ='C:/Users/danyk/Work/4_Data_Science/DataExplorationWorkshop/OUTPUT/'"
   ]
  },
  {
   "cell_type": "code",
   "execution_count": null,
   "id": "95c5a29e-67f7-4044-ba35-59093cdf4b3a",
   "metadata": {},
   "outputs": [],
   "source": [
    "CQ = pd.read_csv(outputDataFilepath+'CQ_Data_20240602.txt', sep=\",\", dtype={'SITE': str})\n",
    "WtshdAtt = pd.read_csv(outputDataFilepath+'WtshdAttributeTable_20240602.txt', sep=\",\", dtype={'SITE': str})"
   ]
  }
 ],
 "metadata": {
  "kernelspec": {
   "display_name": "Python 3 (ipykernel)",
   "language": "python",
   "name": "python3"
  },
  "language_info": {
   "codemirror_mode": {
    "name": "ipython",
    "version": 3
   },
   "file_extension": ".py",
   "mimetype": "text/x-python",
   "name": "python",
   "nbconvert_exporter": "python",
   "pygments_lexer": "ipython3",
   "version": "3.9.19"
  }
 },
 "nbformat": 4,
 "nbformat_minor": 5
}
